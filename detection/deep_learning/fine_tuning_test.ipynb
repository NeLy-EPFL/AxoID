{
 "cells": [
  {
   "cell_type": "markdown",
   "metadata": {},
   "source": [
    "# Fine tuning test\n",
    "Test the possibility to manually annotated a few frames of the experiment, then fine tune the network on them to predict the rest of the frames.  \n",
    "This is kind of overfitting part of the test set to perform well on the rest, or domain adaptation."
   ]
  },
  {
   "cell_type": "code",
   "execution_count": 2,
   "metadata": {},
   "outputs": [
    {
     "name": "stdout",
     "output_type": "stream",
     "text": [
      "Device: cuda:0\n",
      "The autoreload extension is already loaded. To reload it, use:\n",
      "  %reload_ext autoreload\n"
     ]
    }
   ],
   "source": [
    "%matplotlib inline\n",
    "\n",
    "import os, sys, time, shutil, copy, time\n",
    "import random\n",
    "import ipywidgets as widgets\n",
    "from ipywidgets import interact\n",
    "\n",
    "import numpy as np\n",
    "import matplotlib\n",
    "import matplotlib.pyplot as plt\n",
    "from skimage import io, external, measure, morphology\n",
    "from scipy import ndimage as ndi\n",
    "import cv2\n",
    "import imgaug.augmenters as iaa\n",
    "\n",
    "import torch\n",
    "\n",
    "from utils_common.image import imread_to_float, to_npint, overlay_preds_targets\n",
    "from utils_common.metrics import dice_coef\n",
    "from utils_data import normalize_range, get_all_dataloaders, pad_transform, pad_transform_stack, compute_weights\n",
    "from utils_finetuning import fine_tune, ROIAnnotator_mpl\n",
    "from utils_loss import get_BCEWithLogits_loss\n",
    "from utils_metric import get_dice_metric\n",
    "from utils_model import CustomUNet, load_model\n",
    "from utils_test import predict, predict_stack, evaluate, evaluate_stack\n",
    "\n",
    "seed = 1\n",
    "random.seed(seed)\n",
    "np.random.seed(seed*10 + 1234)\n",
    "torch.manual_seed(seed*100 + 4321)\n",
    "\n",
    "# Use GPU if available\n",
    "device = torch.device(\"cuda:0\" if torch.cuda.is_available() else \"cpu\")\n",
    "print(\"Device:\", device)\n",
    "\n",
    "%load_ext autoreload\n",
    "%autoreload 2"
   ]
  },
  {
   "cell_type": "markdown",
   "metadata": {},
   "source": [
    "### Parameters"
   ]
  },
  {
   "cell_type": "code",
   "execution_count": 10,
   "metadata": {},
   "outputs": [],
   "source": [
    "batch_size = 16\n",
    "learning_rate = 0.0005\n",
    "\n",
    "# Choose wether or not use synth, aug, and weights for fine tuning\n",
    "synth_data = False\n",
    "synth_ratio = None # ratio of synthetic data vs. real data\n",
    "only_synth = False # If True, will use only the synthetic data (and all of it, at the opposite of ratio=1)\n",
    "data_aug = False # If True, will use data augmentation (see below for augmentation sequence)\n",
    "use_weights = True # if False use class weights, if True use pixelwise weights (if existing)\n",
    "\n",
    "input_channels = \"RG\" # Channel to use as input\n",
    "u_depth = 4\n",
    "out1_channels = 16\n",
    "\n",
    "out_model_name = \"models/test_ft\"\n",
    "model_name = \"models/190401_sep_synth_aug/\"\n",
    "data_dir = \"/data/talabot/pdm/dataset_cv-annotated/\""
   ]
  },
  {
   "cell_type": "markdown",
   "metadata": {},
   "source": [
    "### Prepare training\n",
    "Make dataloaders and so on to prepare fine tuning training"
   ]
  },
  {
   "cell_type": "raw",
   "metadata": {},
   "source": [
    "# Create random augment sequence for data augmentation if applicable\n",
    "if data_aug:\n",
    "    seq = iaa.GammaContrast((0.7, 1.3)) # Gamma correction\n",
    "    aug_fn = seq.augment_image\n",
    "else:\n",
    "    aug_fn = lambda x: x # identity function\n",
    "\n",
    "# Create dataloaders\n",
    "dataloaders = get_all_dataloaders(\n",
    "    data_dir,\n",
    "    batch_size, \n",
    "    input_channels = input_channels,\n",
    "    test_dataloader = True,\n",
    "    use_weights = use_weights,\n",
    "    synthetic_data = synth_data, synthetic_ratio = synth_ratio, synthetic_only = only_synth,\n",
    "    train_transform = lambda img: normalize_range(pad_transform(aug_fn(img), u_depth)),\n",
    "    train_target_transform = lambda img: pad_transform(img, u_depth),\n",
    "    eval_transform = lambda img: normalize_range(pad_transform(img, u_depth)), \n",
    "    eval_target_transform = lambda img: pad_transform(img, u_depth)\n",
    ")\n",
    "# \"Deactivate\" the collate_fn of the train dataloader\n",
    "collate_fn = dataloaders[\"train\"].collate_fn\n",
    "dataloaders[\"train\"].collate_fn = lambda batch: batch\n",
    "\n",
    "# Compute class weights (as pixel imbalance)\n",
    "pos_count = 0\n",
    "neg_count = 0\n",
    "for filename in dataloaders[\"train\"].dataset.y_filenames:\n",
    "    y = io.imread(filename)\n",
    "    pos_count += (y == 255).sum()\n",
    "    neg_count += (y == 0).sum()\n",
    "pos_weight = torch.tensor((neg_count + pos_count) / (2 * pos_count)).to(device)\n",
    "neg_weight = torch.tensor((neg_count + pos_count) / (2 * neg_count)).to(device)"
   ]
  },
  {
   "cell_type": "markdown",
   "metadata": {},
   "source": [
    "### Load model"
   ]
  },
  {
   "cell_type": "code",
   "execution_count": 11,
   "metadata": {},
   "outputs": [
    {
     "data": {
      "text/plain": [
       "'models/test_ft/utils_model_save.py'"
      ]
     },
     "execution_count": 11,
     "metadata": {},
     "output_type": "execute_result"
    }
   ],
   "source": [
    "# model = CustomUNet(in_channels=len(input_channels), u_depth=u_depth, \n",
    "#                    out1_channels=out1_channels, device=device)\n",
    "model = load_model(model_name, input_channels=input_channels, u_depth=u_depth, \n",
    "                   out1_channels=out1_channels, device=device)\n",
    "\n",
    "# loss_fn = get_BCEWithLogits_loss(pos_weight=pos_weight, neg_weight=neg_weight)\n",
    "metrics = {\"dice\": get_dice_metric()}\n",
    "\n",
    "# Save future model\n",
    "os.makedirs(out_model_name, exist_ok=True)\n",
    "shutil.copy(\"utils_model.py\", os.path.join(out_model_name, \"utils_model_save.py\"))"
   ]
  },
  {
   "cell_type": "markdown",
   "metadata": {},
   "source": [
    "## Load experiments and annotated frames\n",
    "Load an experiment, predict once the detections, and create annotations for a few frames."
   ]
  },
  {
   "cell_type": "code",
   "execution_count": 12,
   "metadata": {
    "scrolled": false
   },
   "outputs": [
    {
     "name": "stdout",
     "output_type": "stream",
     "text": [
      "Predicted experiment in 1.9 s.\n",
      "Dice = 0.9244515366189591\n"
     ]
    },
    {
     "data": {
      "application/vnd.jupyter.widget-view+json": {
       "model_id": "ff25025f3df5423c895bf17b541e5fe8",
       "version_major": 2,
       "version_minor": 0
      },
      "text/plain": [
       "interactive(children=(IntSlider(value=0, description='image', max=1066), Output()), _dom_classes=('widget-inte…"
      ]
     },
     "metadata": {},
     "output_type": "display_data"
    }
   ],
   "source": [
    "%matplotlib inline\n",
    "import matplotlib.pyplot as plt\n",
    "\n",
    "experiment = \"/data/talabot/experiments/annotated/SS28596_20190228_tdTomGC6fopt-fly2/SS28596_20190228_tdTomGC6fopt-fly2_001/\"\n",
    "# Load experiment and segmentation & weights if available\n",
    "rgb_stack = imread_to_float(os.path.join(experiment, \"RGB.tif\"))\n",
    "if os.path.isfile(os.path.join(experiment, \"seg_ROI.tif\")):\n",
    "    seg_stack = imread_to_float(os.path.join(experiment, \"seg_ROI.tif\"))\n",
    "else:\n",
    "    seg_stack = None\n",
    "if use_weights and os.path.isfile(os.path.join(experiment, \"weights.tif\")):\n",
    "    weights_stack = imread_to_float(os.path.join(experiment, \"weights.tif\"))\n",
    "else:\n",
    "    weights_stack = None\n",
    "\n",
    "# Predict using loaded model\n",
    "start = time.time()\n",
    "predictions = predict_stack(model, rgb_stack, batch_size, input_channels=input_channels,\n",
    "                            transform=lambda stack: normalize_range(pad_transform_stack(stack, u_depth)))\n",
    "predictions = torch.sigmoid(predictions)\n",
    "print(\"Predicted experiment in %.1f s.\" % (time.time() - start))\n",
    "\n",
    "if seg_stack is not None:\n",
    "    print(\"Dice =\", dice_coef((predictions > 0.5).numpy(), seg_stack))\n",
    "\n",
    "@interact(image=(0, len(rgb_stack) - 1))\n",
    "def plot_experiment(image=0):\n",
    "    plt.figure(figsize=(12, 8))\n",
    "    plt.subplot(231)\n",
    "    plt.title(\"Raw input\")\n",
    "    plt.imshow(rgb_stack[image])\n",
    "    if seg_stack is not None:\n",
    "        plt.subplot(232)\n",
    "        plt.title(\"Binary detection\")\n",
    "        plt.imshow(seg_stack[image], cmap=\"gray\")\n",
    "    if weights_stack is not None:\n",
    "        plt.subplot(233)\n",
    "        plt.title(\"Pixel weighting\")\n",
    "        plt.imshow(weights_stack[image], cmap=\"gray\")\n",
    "    plt.subplot(235)\n",
    "    plt.title(\"Prediction\")\n",
    "    plt.imshow(predictions[image], cmap=\"gray\")\n",
    "    if seg_stack is not None:\n",
    "        plt.subplot(236)\n",
    "        plt.title(\"Overlay with ground truth\")\n",
    "        plt.imshow(overlay_preds_targets((predictions[image] > 0.5).numpy(), seg_stack[image]))\n",
    "    plt.tight_layout()\n",
    "    plt.show()"
   ]
  },
  {
   "cell_type": "markdown",
   "metadata": {},
   "source": [
    "### Manual annotations\n",
    "Use the ground truth as annotations to test how many frames are needed, and how to fine tune."
   ]
  },
  {
   "cell_type": "code",
   "execution_count": 13,
   "metadata": {},
   "outputs": [
    {
     "name": "stdout",
     "output_type": "stream",
     "text": [
      "Indices of annotated frames:\n",
      "[ 701 1024  835]\n",
      "[1056]\n"
     ]
    }
   ],
   "source": [
    "# Select and annotated frames\n",
    "n_train = 3 # number of frames to annotated for training\n",
    "n_valid = 1 # number of frames to annotated for validation\n",
    "\n",
    "# Randomly choose frames\n",
    "indices = np.random.choice(np.arange(len(rgb_stack)), size=n_train + n_valid, replace=False)\n",
    "indices_train = indices[:n_train]\n",
    "indices_valid = indices[n_train:]\n",
    "print(\"Indices of annotated frames:\", indices_train, indices_valid, sep=\"\\n\")\n",
    "rgb_train = np.stack([rgb_stack[idx] for idx in indices_train])\n",
    "rgb_valid = np.stack([rgb_stack[idx] for idx in indices_valid])\n",
    "seg_train = np.stack([seg_stack[idx] for idx in indices_train])\n",
    "seg_valid = np.stack([seg_stack[idx] for idx in indices_valid])"
   ]
  },
  {
   "cell_type": "markdown",
   "metadata": {},
   "source": [
    "OR Make manual annotations."
   ]
  },
  {
   "cell_type": "code",
   "execution_count": 16,
   "metadata": {},
   "outputs": [
    {
     "name": "stdout",
     "output_type": "stream",
     "text": [
      "Indices of annotated frames:\n",
      "[254 759 962]\n",
      "[253]\n"
     ]
    }
   ],
   "source": [
    "# Select and annotated frames\n",
    "n_train = 3 # number of frames to annotated for training\n",
    "n_valid = 1 # number of frames to annotated for validation\n",
    "\n",
    "# Randomly choose frames\n",
    "indices = np.random.choice(np.arange(len(rgb_stack)), size=n_train + n_valid, replace=False)\n",
    "indices_train = indices[:n_train]\n",
    "indices_valid = indices[n_train:]\n",
    "print(\"Indices of annotated frames:\", indices_train, indices_valid, sep=\"\\n\")\n",
    "rgb_train = np.stack([rgb_stack[idx] for idx in indices_train])\n",
    "rgb_valid = np.stack([rgb_stack[idx] for idx in indices_valid])"
   ]
  },
  {
   "cell_type": "code",
   "execution_count": 17,
   "metadata": {},
   "outputs": [],
   "source": [
    "seg_annotated = external.tifffile.imread(\"/home/user/talabot/workdir/annotations.tif\") / 255\n",
    "seg_train = seg_annotated[:n_train]\n",
    "seg_valid = seg_annotated[n_train:]"
   ]
  },
  {
   "cell_type": "markdown",
   "metadata": {},
   "source": [
    "Add other manual annotations"
   ]
  },
  {
   "cell_type": "code",
   "execution_count": 106,
   "metadata": {},
   "outputs": [
    {
     "name": "stdout",
     "output_type": "stream",
     "text": [
      "Indices of new annotated frames:\n",
      "[171]\n",
      "[330]\n"
     ]
    }
   ],
   "source": [
    "# Manually add indices for annotation if annotation was not good enough\n",
    "new_idx_train = [171]\n",
    "new_idx_valid = [330]\n",
    "\n",
    "# Randomly choose frames\n",
    "print(\"Indices of new annotated frames:\", new_idx_train, new_idx_valid, sep=\"\\n\")\n",
    "new_rgb_train = np.stack([rgb_stack[idx] for idx in new_idx_train])\n",
    "new_rgb_valid = np.stack([rgb_stack[idx] for idx in new_idx_valid])"
   ]
  },
  {
   "cell_type": "code",
   "execution_count": 107,
   "metadata": {},
   "outputs": [],
   "source": [
    "new_seg_annotated = external.tifffile.imread(\"/home/user/talabot/workdir/annotations.tif\") / 255\n",
    "new_seg_train = new_seg_annotated[:len(new_idx_train)]\n",
    "new_seg_valid = new_seg_annotated[len(new_idx_train):]"
   ]
  },
  {
   "cell_type": "markdown",
   "metadata": {},
   "source": [
    "Add predictions as annotations"
   ]
  },
  {
   "cell_type": "code",
   "execution_count": 18,
   "metadata": {},
   "outputs": [],
   "source": [
    "new_idx_train = []\n",
    "new_idx_valid = []\n",
    "\n",
    "new_rgb_train = np.stack([rgb_stack[idx] for idx in new_idx_train])\n",
    "new_rgb_valid = np.stack([rgb_stack[idx] for idx in new_idx_valid])\n",
    "new_seg_train = np.stack([predictions_ft[idx].numpy() > 0.5 for idx in new_idx_train])\n",
    "new_seg_valid = np.stack([predictions_ft[idx].numpy() > 0.5 for idx in new_idx_valid])"
   ]
  },
  {
   "cell_type": "markdown",
   "metadata": {},
   "source": [
    "Add new annotations for training"
   ]
  },
  {
   "cell_type": "code",
   "execution_count": 109,
   "metadata": {},
   "outputs": [],
   "source": [
    "rgb_train = np.concatenate([rgb_train, new_rgb_train])\n",
    "rgb_valid = np.concatenate([rgb_valid, new_rgb_valid])\n",
    "seg_train = np.concatenate([seg_train, new_seg_train])\n",
    "seg_valid = np.concatenate([seg_valid, new_seg_valid])"
   ]
  },
  {
   "cell_type": "code",
   "execution_count": 14,
   "metadata": {},
   "outputs": [
    {
     "data": {
      "application/vnd.jupyter.widget-view+json": {
       "model_id": "5513ed07b6ac4f8da6f6acd5e01b4928",
       "version_major": 2,
       "version_minor": 0
      },
      "text/plain": [
       "interactive(children=(IntSlider(value=0, description='image', max=3), Output()), _dom_classes=('widget-interac…"
      ]
     },
     "metadata": {},
     "output_type": "display_data"
    }
   ],
   "source": [
    "seg_train = seg_train.astype(rgb_train.dtype)\n",
    "seg_valid = seg_valid.astype(rgb_valid.dtype)\n",
    "weights_train = compute_weights(seg_train, contour=False, separation=True)\n",
    "weights_valid = compute_weights(seg_valid, contour=False, separation=True)\n",
    "\n",
    "@interact(image=(0, len(weights_train) + len(weights_valid) - 1))\n",
    "def plot_experiment(image=0):\n",
    "    if image < len(weights_train):\n",
    "        rgb = rgb_train\n",
    "        seg = seg_train\n",
    "        wgt = weights_train\n",
    "    else:\n",
    "        rgb = rgb_valid\n",
    "        seg = seg_valid\n",
    "        wgt = weights_valid\n",
    "    image %= len(weights_train)\n",
    "    plt.figure(figsize=(10, 10))\n",
    "    plt.subplot(221)\n",
    "    plt.title(\"Raw input\")\n",
    "    plt.imshow(rgb[image])\n",
    "    plt.subplot(222)\n",
    "    plt.title(\"Binary detection\")\n",
    "    plt.imshow(seg[image], cmap=\"gray\")\n",
    "    plt.subplot(223)\n",
    "    plt.title(\"Pixel weighting\")\n",
    "    plt.imshow(wgt[image], vmax=max(wgt[image].max(), 0.1))\n",
    "    plt.colorbar(fraction=0.035, pad=0.02)\n",
    "    plt.tight_layout()\n",
    "    plt.show()"
   ]
  },
  {
   "cell_type": "markdown",
   "metadata": {},
   "source": [
    "## Fine tuning"
   ]
  },
  {
   "cell_type": "code",
   "execution_count": 19,
   "metadata": {},
   "outputs": [
    {
     "name": "stdout",
     "output_type": "stream",
     "text": [
      "Initial val_dice = 0.859619\n",
      "Iteration (max 1000): \n",
      "50: dice = 0.786288 - val_dice = 0.783133\n",
      "100: dice = 0.844215 - val_dice = 0.832000\n",
      "150: dice = 0.864947 - val_dice = 0.853377\n",
      "200: dice = 0.856151 - val_dice = 0.843648\n",
      "250: dice = 0.861842 - val_dice = 0.851064\n",
      "300: dice = 0.901811 - val_dice = 0.859038\n",
      "350: dice = 0.882349 - val_dice = 0.859038\n",
      "400: dice = 0.921157 - val_dice = 0.879865\n",
      "450: dice = 0.885019 - val_dice = 0.860927\n",
      "500: dice = 0.898484 - val_dice = 0.871022\n",
      "550: dice = 0.907299 - val_dice = 0.874576\n",
      "600: dice = 0.937127 - val_dice = 0.883562\n",
      "650: dice = 0.925254 - val_dice = 0.876481\n",
      "700: dice = 0.936181 - val_dice = 0.884354\n",
      "200 iterations without validation improvements. Fine tuning is interrupted at iteration 706.\n",
      "Best model fine tuned in iteration 506.\n",
      "\n",
      "Fine tuning took 18.7 s.\n"
     ]
    }
   ],
   "source": [
    "seg_train = seg_train.astype(rgb_train.dtype)\n",
    "seg_valid = seg_valid.astype(rgb_valid.dtype)\n",
    "if use_weights:\n",
    "    weights_train = compute_weights(seg_train, contour=False, separation=False)\n",
    "    weights_valid = compute_weights(seg_valid, contour=False, separation=False)\n",
    "else:\n",
    "    weights_train = None\n",
    "    weights_valid = None\n",
    "\n",
    "start = time.time()\n",
    "model_ft = fine_tune(model, rgb_train, seg_train, weights_train, rgb_valid, seg_valid, \n",
    "                     data_aug=True, n_iter_max=1000, patience=200, batch_size=16, learning_rate = 0.0005,\n",
    "                     verbose=1)\n",
    "print(\"\\nFine tuning took %.1f s.\" % (time.time() - start))\n",
    "last_model_ft = copy.deepcopy(model_ft)"
   ]
  },
  {
   "cell_type": "code",
   "execution_count": 20,
   "metadata": {},
   "outputs": [
    {
     "name": "stdout",
     "output_type": "stream",
     "text": [
      "Predicted experiment in 2.0 s.\n",
      "Dice    = 0.9244515366189591\n",
      "Dice_ft = 0.9013191546714102\n"
     ]
    },
    {
     "data": {
      "application/vnd.jupyter.widget-view+json": {
       "model_id": "eb9762dfbc2b42f7b96ca07b452dd93d",
       "version_major": 2,
       "version_minor": 0
      },
      "text/plain": [
       "interactive(children=(IntSlider(value=0, description='image', max=1066), Output()), _dom_classes=('widget-inte…"
      ]
     },
     "metadata": {},
     "output_type": "display_data"
    }
   ],
   "source": [
    "%matplotlib inline\n",
    "import matplotlib.pyplot as plt\n",
    "\n",
    "# Predict again, and compare results\n",
    "start = time.time()\n",
    "predictions_ft = predict_stack(model_ft, rgb_stack, batch_size, input_channels=input_channels,\n",
    "                               transform=lambda stack: normalize_range(pad_transform_stack(stack, u_depth)))\n",
    "predictions_ft = torch.sigmoid(predictions_ft)\n",
    "print(\"Predicted experiment in %.1f s.\" % (time.time() - start))\n",
    "\n",
    "if seg_stack is not None:\n",
    "    print(\"Dice    =\", dice_coef((predictions > 0.5).numpy(), seg_stack))\n",
    "    print(\"Dice_ft =\", dice_coef((predictions_ft > 0.5).numpy(), seg_stack))\n",
    "\n",
    "@interact(image=(0, len(rgb_stack) - 1))\n",
    "def plot_experiment(image=0):\n",
    "    plt.figure(figsize=(12, 8))\n",
    "    plt.subplot(231)\n",
    "    plt.title(\"Raw input\")\n",
    "    plt.imshow(rgb_stack[image])\n",
    "    if seg_stack is not None:     \n",
    "        plt.subplot(234)\n",
    "        plt.title(\"Binary detection\")\n",
    "        plt.imshow(seg_stack[image], cmap=\"gray\")\n",
    "    plt.subplot(232)\n",
    "    plt.title(\"Prediction\")\n",
    "    plt.imshow(predictions[image], cmap=\"gray\")\n",
    "    if seg_stack is not None:\n",
    "        plt.subplot(233)\n",
    "        plt.title(\"Overlay with ground truth\")\n",
    "        plt.imshow(overlay_preds_targets((predictions[image] > 0.5).numpy(), seg_stack[image]))\n",
    "    plt.subplot(235)\n",
    "    plt.title(\"Fine tuned prediction\")\n",
    "    plt.imshow(predictions_ft[image], cmap=\"gray\")\n",
    "    if seg_stack is not None:\n",
    "        plt.subplot(236)\n",
    "        plt.title(\"Overlay with ground truth\")\n",
    "        plt.imshow(overlay_preds_targets((predictions_ft[image] > 0.5).numpy(), seg_stack[image]))\n",
    "    plt.tight_layout()\n",
    "    plt.show()"
   ]
  },
  {
   "cell_type": "code",
   "execution_count": 21,
   "metadata": {
    "scrolled": false
   },
   "outputs": [
    {
     "name": "stdout",
     "output_type": "stream",
     "text": [
      "Computation of #ROIs took 0.7 s.\n",
      "81 5\n"
     ]
    },
    {
     "data": {
      "image/png": "[encoded data removed]",
      "text/plain": [
       "<Figure size 432x288 with 1 Axes>"
      ]
     },
     "metadata": {
      "needs_background": "light"
     },
     "output_type": "display_data"
    }
   ],
   "source": [
    "start = time.time()\n",
    "n_roi = []\n",
    "for i in range(len(rgb_stack)):\n",
    "    tmp = morphology.remove_small_objects(predictions_ft[i].numpy() > 0.5, 16)\n",
    "    _, n = measure.label(tmp, connectivity=1, return_num=True)\n",
    "    n_roi.append(n)\n",
    "print(\"Computation of #ROIs took %.1f s.\" % (time.time() - start))\n",
    "print(np.argmax(n_roi), np.argmin(n_roi))\n",
    "    \n",
    "plt.figure()\n",
    "plt.plot(n_roi)\n",
    "plt.show()"
   ]
  },
  {
   "cell_type": "code",
   "execution_count": 46,
   "metadata": {},
   "outputs": [],
   "source": [
    "tosave = np.zeros_like(seg_stack)\n",
    "for i in range(len(rgb_stack)):\n",
    "    tosave[i] = morphology.remove_small_objects(predictions_ft[i].numpy() > 0.5, 16)\n",
    "\n",
    "io.imsave(\"/home/user/talabot/workdir/preds.tif\", to_npint(tosave))"
   ]
  },
  {
   "cell_type": "markdown",
   "metadata": {},
   "source": [
    "## Test drawing for manual annotations\n",
    "Test drawing by mouse."
   ]
  },
  {
   "cell_type": "raw",
   "metadata": {},
   "source": [
    "%matplotlib notebook\n",
    "import numpy as np\n",
    "import matplotlib.pyplot as plt\n",
    "from skimage import io\n",
    "from utils_finetuning import ROIAnnotator_mpl\n",
    "%load_ext autoreload\n",
    "%autoreload 2\n",
    "\n",
    "img = io.imread(\"/data/talabot/experiments/annotated/R70H06_20181202-tdTomGC6fopt-fl2/\"\n",
    "                \"R70H06-tdTomGC6fopt-fly2-001/rgb_frames/rgb_0000.png\")\n",
    "imgs = np.stack([img] * 2)\n",
    "\n",
    "roi_selector = ROIAnnotator_mpl(imgs)"
   ]
  },
  {
   "cell_type": "raw",
   "metadata": {},
   "source": [
    "plt.figure()\n",
    "plt.subplot(121)\n",
    "plt.imshow(img)\n",
    "plt.subplot(122)\n",
    "plt.imshow(roi_selector.segmentation[0], cmap=\"gray\")\n",
    "plt.tight_layout()\n",
    "plt.show()"
   ]
  }
 ],
 "metadata": {
  "kernelspec": {
   "display_name": "Python 3",
   "language": "python",
   "name": "python3"
  },
  "language_info": {
   "codemirror_mode": {
    "name": "ipython",
    "version": 3
   },
   "file_extension": ".py",
   "mimetype": "text/x-python",
   "name": "python",
   "nbconvert_exporter": "python",
   "pygments_lexer": "ipython3",
   "version": "3.6.7"
  }
 },
 "nbformat": 4,
 "nbformat_minor": 2
}
