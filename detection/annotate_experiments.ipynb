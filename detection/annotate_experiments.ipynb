{
 "cells": [
  {
   "cell_type": "markdown",
   "metadata": {},
   "source": [
    "# Annotate experiments\n",
    "Notebook used to create binary annotations for experiments using a computer vision approach, or deep networks.  \n",
    "Manual tuning and correction are used to improve the quality of the detection, before it is used as ground truths."
   ]
  },
  {
   "cell_type": "code",
   "execution_count": 1,
   "metadata": {},
   "outputs": [],
   "source": [
    "%matplotlib inline\n",
    "\n",
    "import os, sys, time, shutil\n",
    "import warnings\n",
    "import ipywidgets as widgets\n",
    "from ipywidgets import interact\n",
    "from IPython.display import clear_output\n",
    "\n",
    "import numpy as np\n",
    "import matplotlib.pyplot as plt\n",
    "from skimage import io, filters, measure\n",
    "from skimage import morphology as morph\n",
    "from skimage.morphology import disk\n",
    "\n",
    "import torch\n",
    "\n",
    "from utils_common.image import imread_to_float, to_npint, overlay_contours\n",
    "from utils_common.processing import nlm_denoising\n",
    "from utils_common.register_cc import register_stack\n",
    "from computer_vision.cv_detector import cv_detect\n",
    "from deep_learning.utils_data import normalize_range, pad_transform_stack\n",
    "from deep_learning.utils_test import predict_stack\n",
    "# from deep_learning\n",
    "\n",
    "%load_ext autoreload\n",
    "%autoreload 2"
   ]
  },
  {
   "cell_type": "markdown",
   "metadata": {},
   "source": [
    "### Load experiment"
   ]
  },
  {
   "cell_type": "code",
   "execution_count": 4,
   "metadata": {},
   "outputs": [
    {
     "name": "stdout",
     "output_type": "stream",
     "text": [
      "MDN1-4_imaging_MDN1_fly1\n",
      "MDN1-4_imaging_MDN1_fly1_004\n"
     ]
    }
   ],
   "source": [
    "animal_to_annotate = os.listdir(\"/data/talabot/experiments/to_annotate/\")\n",
    "animal_annotated = os.listdir(\"/data/talabot/experiments/annotated/\")\n",
    "\n",
    "# Randomly select an animal without any annotated experiment\n",
    "animal = np.random.choice([animal for animal in animal_to_annotate if animal not in animal_annotated])\n",
    "# Randomly select an experiment to annotated\n",
    "experiment = np.random.choice(os.listdir(os.path.join(\"/data/talabot/experiments/to_annotate/\", animal)))\n",
    "\n",
    "animal = \"MDN1-4_imaging_MDN1_fly1\"\n",
    "experiment = \"MDN1-4_imaging_MDN1_fly1_004\"\n",
    "print(animal, experiment, sep=\"\\n\")"
   ]
  },
  {
   "cell_type": "code",
   "execution_count": 6,
   "metadata": {
    "scrolled": false
   },
   "outputs": [
    {
     "data": {
      "application/vnd.jupyter.widget-view+json": {
       "model_id": "f75573bd22434a07a807cedb0aec85be",
       "version_major": 2,
       "version_minor": 0
      },
      "text/plain": [
       "interactive(children=(IntSlider(value=0, description='image', max=599), Output()), _dom_classes=('widget-inter…"
      ]
     },
     "metadata": {},
     "output_type": "display_data"
    }
   ],
   "source": [
    "# Load RGB stack and register it\n",
    "rgb_stack = imread_to_float(os.path.join(\"/data/talabot/experiments/to_annotate/\", animal, experiment, \"RGB.tif\"))\n",
    "reg_rgb = register_stack(rgb_stack, ref_num=1)\n",
    "\n",
    "@interact(image=(0, len(rgb_stack) - 1))\n",
    "def plot_stack(image=0):\n",
    "    plt.figure(figsize=(10,5))\n",
    "    plt.suptitle(\"Animal: %s\\nExp: %s\" % (animal, experiment))\n",
    "    plt.subplot(121)\n",
    "    plt.title(\"Raw frame %d\" % image)\n",
    "    plt.imshow(rgb_stack[image])\n",
    "    plt.subplot(122)\n",
    "    plt.title(\"Mean temporal registered image\")\n",
    "    plt.imshow(reg_rgb.mean(0))\n",
    "    plt.tight_layout()\n",
    "    plt.show()"
   ]
  },
  {
   "cell_type": "markdown",
   "metadata": {},
   "source": [
    "# Computer Vision detector"
   ]
  },
  {
   "cell_type": "code",
   "execution_count": 7,
   "metadata": {
    "scrolled": false
   },
   "outputs": [
    {
     "name": "stdout",
     "output_type": "stream",
     "text": [
      "Denoising\n"
     ]
    },
    {
     "data": {
      "application/vnd.jupyter.widget-view+json": {
       "model_id": "ffa3f5982006440e82b9a5d66eb781a2",
       "version_major": 2,
       "version_minor": 0
      },
      "text/plain": [
       "interactive(children=(IntSlider(value=0, description='image', max=599), BoundedIntText(value=11, description='…"
      ]
     },
     "metadata": {},
     "output_type": "display_data"
    },
    {
     "name": "stdout",
     "output_type": "stream",
     "text": [
      "Detection\n"
     ]
    },
    {
     "data": {
      "application/vnd.jupyter.widget-view+json": {
       "model_id": "62ef579c47df40dbad318cdb21314ed9",
       "version_major": 2,
       "version_minor": 0
      },
      "text/plain": [
       "interactive(children=(IntSlider(value=2, description='image', max=597, min=2), BoundedIntText(value=11, descri…"
      ]
     },
     "metadata": {},
     "output_type": "display_data"
    }
   ],
   "source": [
    "# Test the denoising and detector to tune their parameters\n",
    "print(\"Denoising\")\n",
    "@interact(image=(0, len(rgb_stack) - 1),\n",
    "          h_red=widgets.BoundedIntText(value=11, min=0),\n",
    "          h_green=widgets.BoundedIntText(value=11, min=0))\n",
    "def plot_denoising(image=0, h_red=11, h_green=11):\n",
    "    start = time.time()\n",
    "    denoised = nlm_denoising(rgb_stack, img_id=image, h_red=h_red, h_green=h_green)\n",
    "    duration = time.time() - start\n",
    "    \n",
    "    plt.figure(figsize=(10,5))\n",
    "    plt.subplot(121)\n",
    "    plt.title(\"Raw input\")\n",
    "    plt.imshow(rgb_stack[image])\n",
    "    plt.subplot(122)\n",
    "    plt.title(\"Denoised\\n(Took %f s.)\" % duration)\n",
    "    plt.imshow(denoised)\n",
    "    plt.tight_layout()\n",
    "    plt.show()\n",
    "\n",
    "print(\"Detection\")\n",
    "@interact(image=(2, len(rgb_stack) - 3),\n",
    "          h_red=widgets.BoundedIntText(value=11, min=0),\n",
    "          h_green=widgets.BoundedIntText(value=11, min=0),\n",
    "          thresh_fn=widgets.ToggleButtons(options=[\"Otsu\", \"Li\", \"Constant\"]),\n",
    "          thresh_val=widgets.BoundedIntText(value=30, min=0, max=255),\n",
    "          erosion=(0,5))\n",
    "def plot_detector(image=0, h_red=11, h_green=11, thresh_fn=\"Otsu\", thresh_val=30, erosion=0):\n",
    "    if thresh_fn == \"Otsu\":\n",
    "        thresholding_fn = filters.threshold_otsu\n",
    "    elif thresh_fn == \"Li\":\n",
    "        thresholding_fn = filters.threshold_li\n",
    "    elif thresh_fn == \"Constant\":\n",
    "        thresholding_fn = lambda x: thresh_val / 255\n",
    "    \n",
    "    start = time.time()\n",
    "    detection = cv_detect(rgb_stack[image - 2: image + 3], \n",
    "                          h_red=h_red, h_green=h_green,\n",
    "                          thresholding_fn=thresholding_fn, \n",
    "                          registration=False, selem=disk(erosion))[2]\n",
    "    duration = time.time() - start\n",
    "    \n",
    "    plt.figure(figsize=(13,5))\n",
    "    plt.subplot(131)\n",
    "    plt.title(\"Raw input\")\n",
    "    plt.imshow(rgb_stack[image])\n",
    "    plt.subplot(132)\n",
    "    plt.title(\"Detection\\n(Took %f s.)\" % duration)\n",
    "    plt.imshow(detection)\n",
    "    plt.subplot(133)\n",
    "    plt.title(\"Detection contours\")\n",
    "    plt.imshow(overlay_contours(rgb_stack[image], detection))\n",
    "    plt.tight_layout()\n",
    "    plt.show()"
   ]
  },
  {
   "cell_type": "code",
   "execution_count": 8,
   "metadata": {},
   "outputs": [
    {
     "name": "stdout",
     "output_type": "stream",
     "text": [
      "CV detection took 3 min 34 s.\n"
     ]
    },
    {
     "data": {
      "application/vnd.jupyter.widget-view+json": {
       "model_id": "bed06e33e51244689c2390d0a21cacf0",
       "version_major": 2,
       "version_minor": 0
      },
      "text/plain": [
       "interactive(children=(IntSlider(value=0, description='image', max=599), Output()), _dom_classes=('widget-inter…"
      ]
     },
     "metadata": {},
     "output_type": "display_data"
    }
   ],
   "source": [
    "# Apply detector to the whole stack (/!\\ a bit slow)\n",
    "h_red = 15\n",
    "h_green = 10\n",
    "thresholding_fn = lambda x: 25 / 255\n",
    "erosion = 0\n",
    "\n",
    "start = time.time()\n",
    "cv_detection = cv_detect(rgb_stack, h_red=h_red, h_green=h_green, thresholding_fn=thresholding_fn, \n",
    "                         registration=False, selem=disk(erosion))\n",
    "duration = time.time() - start\n",
    "duration_str = \"%d min %d s\" % (duration // 60, duration % 60)\n",
    "print(\"CV detection took %s.\" % duration_str)\n",
    "\n",
    "@interact(image=(0, len(cv_detection) - 1))\n",
    "def plot_detector(image=0):\n",
    "    plt.figure(figsize=(13,5))\n",
    "    plt.subplot(131)\n",
    "    plt.title(\"Raw input\")\n",
    "    plt.imshow(rgb_stack[image])\n",
    "    plt.subplot(132)\n",
    "    plt.title(\"Detection\")\n",
    "    plt.imshow(cv_detection[image])\n",
    "    plt.subplot(133)\n",
    "    plt.title(\"Detection contours\")\n",
    "    plt.imshow(overlay_contours(rgb_stack[image], cv_detection[image]))\n",
    "    plt.tight_layout()\n",
    "    plt.show()"
   ]
  },
  {
   "cell_type": "code",
   "execution_count": 9,
   "metadata": {
    "scrolled": true
   },
   "outputs": [
    {
     "data": {
      "image/png": "[encoded data removed]",
      "text/plain": [
       "<Figure size 576x288 with 2 Axes>"
      ]
     },
     "metadata": {
      "needs_background": "light"
     },
     "output_type": "display_data"
    }
   ],
   "source": [
    "# Plot number of detected ROIs along time\n",
    "num_roi = np.zeros(len(cv_detection))\n",
    "for i in range(len(num_roi)):\n",
    "    num_roi[i] = measure.label(cv_detection[i], connectivity=1, return_num=True)[1]\n",
    "#     if num_roi[i] != 3:\n",
    "#         print(i, num_roi[i])\n",
    "\n",
    "plt.figure(figsize=(8,4))\n",
    "plt.subplot(121)\n",
    "plt.title(\"Number of detected ROIs through time\")\n",
    "plt.plot(num_roi)\n",
    "plt.subplot(122)\n",
    "plt.title(\"Histogram of number of ROIs\")\n",
    "plt.hist(num_roi, bins=np.arange(num_roi.min(), num_roi.max() + 2), align='left', edgecolor='k')\n",
    "plt.xticks(np.arange(num_roi.min(), num_roi.max() + 1))\n",
    "plt.show()"
   ]
  },
  {
   "cell_type": "markdown",
   "metadata": {},
   "source": [
    "# Deep learning detector"
   ]
  },
  {
   "cell_type": "code",
   "execution_count": 19,
   "metadata": {},
   "outputs": [
    {
     "name": "stdout",
     "output_type": "stream",
     "text": [
      "Device: cuda:0\n",
      "Prediction took 1.1 s.\n"
     ]
    },
    {
     "data": {
      "application/vnd.jupyter.widget-view+json": {
       "model_id": "206ceb33c7c243cca7da018ea285b316",
       "version_major": 2,
       "version_minor": 0
      },
      "text/plain": [
       "interactive(children=(IntSlider(value=0, description='image', max=599), FloatSlider(value=0.5, description='de…"
      ]
     },
     "metadata": {},
     "output_type": "display_data"
    }
   ],
   "source": [
    "model_name = \"RG_synth_190311\"\n",
    "# model_name = \"unet4-16_synth_only_2-6neur_181205\"\n",
    "# model_name = \"R_synth_only_181205_pixel-weight\"\n",
    "# model_name = \"unet4-16_RG_cv-annotated_aug\"\n",
    "\n",
    "input_channels = \"RG\"\n",
    "model_dir = \"deep_learning/models/\"\n",
    "u_depth = 4\n",
    "out1_channels = 16\n",
    "batch_size = 32\n",
    "device = torch.device(\"cuda:0\" if torch.cuda.is_available() else \"cpu\")\n",
    "print(\"Device:\", device)\n",
    "\n",
    "# Load model\n",
    "sys.path.append(os.path.join(model_dir, model_name))\n",
    "from utils_model_save import CustomUNet as ModelNet\n",
    "\n",
    "model = ModelNet(len(input_channels), u_depth=u_depth, out1_channels=out1_channels, batchnorm=True, device=device)\n",
    "model.load_state_dict(torch.load(os.path.join(model_dir, model_name, \"model_best.pth\")))\n",
    "model.eval()\n",
    "\n",
    "# Predict\n",
    "transform = lambda stack: normalize_range(pad_transform_stack(stack, u_depth))\n",
    "start = time.time()\n",
    "predictions = predict_stack(model, rgb_stack, batch_size, input_channels=input_channels, \n",
    "                            channels_last=True, transform=transform)\n",
    "print(\"Prediction took %.1f s.\" % (time.time() - start))\n",
    "predictions = torch.sigmoid(predictions).numpy()\n",
    "\n",
    "# Display results\n",
    "@interact(image=(0, len(rgb_stack) - 1),\n",
    "          detection_th=widgets.FloatSlider(value=0.5, min=0, max=1, step=0.1, readout_format=\".1f\"))\n",
    "def plot_detector(image=0, detection_th=0.5):\n",
    "    detection = predictions[image] > detection_th\n",
    "    \n",
    "    plt.figure(figsize=(10,10))\n",
    "    plt.subplot(221)\n",
    "    plt.title(\"Raw input\")\n",
    "    plt.imshow(rgb_stack[image])\n",
    "    plt.subplot(222)\n",
    "    plt.title(\"Detection contours\")\n",
    "    plt.imshow(overlay_contours(rgb_stack[image], detection, rescale_img=True))\n",
    "    plt.subplot(223)\n",
    "    plt.title(\"Prediction probabilities\")\n",
    "    plt.imshow(predictions[image])\n",
    "    plt.subplot(224)\n",
    "    plt.title(\"Detection\")\n",
    "    plt.imshow(detection)\n",
    "    plt.tight_layout()\n",
    "    plt.show()"
   ]
  },
  {
   "cell_type": "code",
   "execution_count": 20,
   "metadata": {},
   "outputs": [
    {
     "data": {
      "application/vnd.jupyter.widget-view+json": {
       "model_id": "4c366a4613f344658db646b5c85e8107",
       "version_major": 2,
       "version_minor": 0
      },
      "text/plain": [
       "interactive(children=(IntSlider(value=0, description='image', max=599), Output()), _dom_classes=('widget-inter…"
      ]
     },
     "metadata": {},
     "output_type": "display_data"
    }
   ],
   "source": [
    "# Make final predictions\n",
    "dl_detection_th = 0.5\n",
    "\n",
    "dl_detection = predictions > dl_detection_th\n",
    "@interact(image=(0, len(rgb_stack) - 1))\n",
    "def plot_detector(image=0):    \n",
    "    plt.figure(figsize=(12,6))\n",
    "    plt.subplot(121)\n",
    "    plt.title(\"Raw input\")\n",
    "    plt.imshow(rgb_stack[image])\n",
    "    plt.subplot(122)\n",
    "    plt.title(\"Detection\")\n",
    "    plt.imshow(dl_detection[image])\n",
    "    plt.tight_layout()\n",
    "    plt.show()"
   ]
  },
  {
   "cell_type": "code",
   "execution_count": 42,
   "metadata": {
    "scrolled": true
   },
   "outputs": [
    {
     "data": {
      "image/png": "[encoded data removed]",
      "text/plain": [
       "<Figure size 576x288 with 2 Axes>"
      ]
     },
     "metadata": {
      "needs_background": "light"
     },
     "output_type": "display_data"
    }
   ],
   "source": [
    "# Plot number of detected ROIs along time\n",
    "num_roi = np.zeros(len(dl_detection))\n",
    "for i in range(len(num_roi)):\n",
    "    num_roi[i] = measure.label(dl_detection[i], connectivity=1, return_num=True)[1]\n",
    "#     if num_roi[i] != 3:\n",
    "#         print(i, num_roi[i])\n",
    "    \n",
    "plt.figure(figsize=(8,4))\n",
    "plt.subplot(121)\n",
    "plt.title(\"Number of detected ROIs through time\")\n",
    "plt.plot(num_roi)\n",
    "plt.subplot(122)\n",
    "plt.title(\"Histogram of number of ROIs\")\n",
    "plt.hist(num_roi, bins=np.arange(num_roi.min(), num_roi.max() + 2), align='left', edgecolor='k')\n",
    "plt.xticks(np.arange(num_roi.min(), num_roi.max() + 1))\n",
    "plt.show()"
   ]
  },
  {
   "cell_type": "markdown",
   "metadata": {},
   "source": [
    "# Select and tune best results\n",
    "Compare results of detector, manually tune/correct them, etc."
   ]
  },
  {
   "cell_type": "code",
   "execution_count": 39,
   "metadata": {},
   "outputs": [
    {
     "data": {
      "application/vnd.jupyter.widget-view+json": {
       "model_id": "9bb49b66f7fa4a8fa01050f45e7d69b1",
       "version_major": 2,
       "version_minor": 0
      },
      "text/plain": [
       "interactive(children=(IntSlider(value=0, description='image', max=599), Output()), _dom_classes=('widget-inter…"
      ]
     },
     "metadata": {},
     "output_type": "display_data"
    }
   ],
   "source": [
    "cv_processed = np.zeros_like(cv_detection)\n",
    "dl_processed = np.zeros_like(dl_detection)\n",
    "for i in range(len(rgb_stack)):\n",
    "    cv_processed[i] = morph.remove_small_objects(cv_detection[i], min_size=16)\n",
    "    dl_processed[i] = morph.remove_small_objects(dl_detection[i], min_size=16)\n",
    "\n",
    "@interact(image=(0, len(rgb_stack) - 1))\n",
    "def plot_detector(image=0):    \n",
    "    plt.figure(figsize=(10,10))\n",
    "    plt.subplot(221)\n",
    "    plt.title(\"Raw input\")\n",
    "    plt.imshow(rgb_stack[image])\n",
    "    plt.subplot(222)\n",
    "    plt.title(\"Red input\")\n",
    "    plt.imshow(rgb_stack[image,...,0])\n",
    "    plt.subplot(223)\n",
    "    plt.title(\"CV processed\")\n",
    "    plt.imshow(cv_processed[image])\n",
    "    plt.subplot(224)\n",
    "    plt.title(\"DL processed\")\n",
    "    plt.imshow(dl_processed[image])\n",
    "    plt.tight_layout()\n",
    "    plt.show()"
   ]
  },
  {
   "cell_type": "code",
   "execution_count": 43,
   "metadata": {
    "scrolled": false
   },
   "outputs": [
    {
     "data": {
      "application/vnd.jupyter.widget-view+json": {
       "model_id": "9163a0e3ec394dd187a26337ea62269d",
       "version_major": 2,
       "version_minor": 0
      },
      "text/plain": [
       "interactive(children=(IntSlider(value=0, description='image', max=599), Output()), _dom_classes=('widget-inter…"
      ]
     },
     "metadata": {},
     "output_type": "display_data"
    }
   ],
   "source": [
    "pre_processed = dl_processed.copy()\n",
    "processed = pre_processed.copy()\n",
    "\n",
    "# Plot number of detected ROIs along time\n",
    "num_roi = np.zeros(len(processed))\n",
    "for i in range(len(num_roi)):\n",
    "    labels, num_roi[i] = measure.label(processed[i], connectivity=1, return_num=True)\n",
    "    if num_roi[i] >= 3 and num_roi[i] <= 6:\n",
    "        continue\n",
    "    plt.figure(figsize=(10,5))\n",
    "    plt.suptitle(\"Frame %d\" % i)\n",
    "    plt.subplot(121)\n",
    "    plt.imshow(rgb_stack[i])\n",
    "    plt.subplot(122)\n",
    "    plt.imshow(labels)\n",
    "    plt.colorbar()\n",
    "    plt.tight_layout()\n",
    "    plt.show()\n",
    "    for region in measure.regionprops(labels):\n",
    "        print(region.label, region.area)\n",
    "    choice = int(input(\"Which to delete ? (0 for nothing): \"))\n",
    "    if choice > 0:\n",
    "        processed[i][labels == choice] = 0\n",
    "        print(\"Label %d is set to background.\" % choice)\n",
    "    else:\n",
    "        print(\"Nothing is done.\")\n",
    "    time.sleep(2)\n",
    "    clear_output()\n",
    "\n",
    "@interact(image=(0, len(rgb_stack) - 1))\n",
    "def plot_detector(image=0):    \n",
    "    plt.figure(figsize=(10,10))\n",
    "    plt.subplot(221)\n",
    "    plt.title(\"Raw input\")\n",
    "    plt.imshow(rgb_stack[image])\n",
    "    plt.subplot(222)\n",
    "    plt.title(\"Red input\")\n",
    "    plt.imshow(rgb_stack[image,...,0])\n",
    "    plt.subplot(223)\n",
    "    plt.title(\"Before processing\")\n",
    "    plt.imshow(pre_processed[image])\n",
    "    plt.subplot(224)\n",
    "    plt.title(\"After processing\")\n",
    "    plt.imshow(processed[image])\n",
    "    plt.tight_layout()\n",
    "    plt.show()"
   ]
  },
  {
   "cell_type": "code",
   "execution_count": 49,
   "metadata": {},
   "outputs": [
    {
     "data": {
      "image/png": "[encoded data removed]",
      "text/plain": [
       "<Figure size 576x288 with 2 Axes>"
      ]
     },
     "metadata": {
      "needs_background": "light"
     },
     "output_type": "display_data"
    }
   ],
   "source": [
    "# Plot number of detected ROIs along time\n",
    "num_roi = np.zeros(len(processed))\n",
    "for i in range(len(num_roi)):\n",
    "    num_roi[i] = measure.label(processed[i], connectivity=1, return_num=True)[1]\n",
    "#     if num_roi[i] > 6:\n",
    "#         print(i, num_roi[i])\n",
    "    \n",
    "plt.figure(figsize=(8,4))\n",
    "plt.subplot(121)\n",
    "plt.title(\"Number of detected ROIs through time\")\n",
    "plt.plot(num_roi)\n",
    "plt.subplot(122)\n",
    "plt.title(\"Histogram of number of ROIs\")\n",
    "plt.hist(num_roi, bins=np.arange(num_roi.min(), num_roi.max() + 2), align='left', edgecolor='k')\n",
    "plt.xticks(np.arange(num_roi.min(), num_roi.max() + 1))\n",
    "plt.show()"
   ]
  },
  {
   "cell_type": "markdown",
   "metadata": {},
   "source": [
    "# Save final detection\n",
    "Save the final detection as ground truths segmentation and move the corresponding experience folder to the annotated directory."
   ]
  },
  {
   "cell_type": "raw",
   "metadata": {},
   "source": [
    "final_detection = processed\n",
    "\n",
    "# Save as segmentation images\n",
    "folder = os.path.join(\"/data/talabot/experiments/to_annotate/\", animal, experiment)\n",
    "with warnings.catch_warnings():\n",
    "    warnings.simplefilter(\"ignore\")\n",
    "    # Save full stacks\n",
    "    io.imsave(os.path.join(folder, \"seg_ROI.tif\"), to_npint(final_detection))\n",
    "    # Save image per image\n",
    "    os.makedirs(os.path.join(folder, \"seg_frames/\"), exist_ok=True)\n",
    "    for i in range(len(final_detection)):\n",
    "        io.imsave(os.path.join(folder, \"seg_frames\", \"seg_{:04}.png\".format(i)), to_npint(final_detection[i]))\n",
    "\n",
    "# Move the experiment to \"annotated/\" directory\n",
    "os.makedirs(os.path.join(\"/data/talabot/experiments/to_annotate/\", animal), exist_ok=True)\n",
    "shutil.move(os.path.join(\"/data/talabot/experiments/to_annotate/\", animal, experiment),\n",
    "            os.path.join(\"/data/talabot/experiments/annotated/\", animal, experiment))\n",
    "print(\"Moved %s to 'annotated/'.\" % experiment)\n",
    "\n",
    "# Make sure there is 'rgb_frames/'\n",
    "if not os.path.isdir(os.path.join(\"/data/talabot/experiments/annotated/\", animal, experiment, \"rgb_frames/\")):\n",
    "    os.makedirs(os.path.join(\"/data/talabot/experiments/annotated/\", animal, experiment, \"rgb_frames/\"))\n",
    "    with warnings.catch_warnings():\n",
    "        warnings.simplefilter(\"ignore\")\n",
    "        for i in range(len(rgb_stack)):\n",
    "            io.imsave(os.path.join(\"/data/talabot/experiments/annotated/\", animal, experiment, \n",
    "                                   \"rgb_frames/\", \"rgb_{:04}.png\".format(i)), to_npint(rgb_stack[i]))"
   ]
  }
 ],
 "metadata": {
  "kernelspec": {
   "display_name": "Python 3",
   "language": "python",
   "name": "python3"
  },
  "language_info": {
   "codemirror_mode": {
    "name": "ipython",
    "version": 3
   },
   "file_extension": ".py",
   "mimetype": "text/x-python",
   "name": "python",
   "nbconvert_exporter": "python",
   "pygments_lexer": "ipython3",
   "version": "3.6.6"
  }
 },
 "nbformat": 4,
 "nbformat_minor": 2
}
