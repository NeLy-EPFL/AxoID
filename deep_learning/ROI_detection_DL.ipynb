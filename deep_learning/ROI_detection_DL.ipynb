{
 "cells": [
  {
   "cell_type": "markdown",
   "metadata": {},
   "source": [
    "# ROI detection with Deep Learning\n",
    "Notebook used to test ROI detection using PyTorch"
   ]
  },
  {
   "cell_type": "code",
   "execution_count": 1,
   "metadata": {},
   "outputs": [
    {
     "name": "stdout",
     "output_type": "stream",
     "text": [
      "Device: cuda:0\n"
     ]
    }
   ],
   "source": [
    "% matplotlib inline\n",
    "\n",
    "import os, sys, time, shutil\n",
    "import random\n",
    "\n",
    "import numpy as np\n",
    "import matplotlib.pyplot as plt\n",
    "from skimage import io\n",
    "from PIL import Image\n",
    "from sklearn.model_selection import train_test_split\n",
    "\n",
    "import torch\n",
    "import torchvision\n",
    "from torch.utils import data\n",
    "\n",
    "from utils_common.ROI_detection import imread_to_float, dice_coef, crop_dice_coef\n",
    "from utils_data import normalize_range, get_all_dataloaders, get_filenames\n",
    "from utils_model import weights_initialization, CustomUNet\n",
    "from utils_train import train\n",
    "from utils_test import predict, evaluate, show_sample\n",
    "\n",
    "seed = 1\n",
    "random.seed(seed)\n",
    "np.random.seed(seed*10 + 1234)\n",
    "torch.manual_seed(seed*100 + 4321)\n",
    "\n",
    "# Use GPU if available\n",
    "device = torch.device(\"cuda:0\" if torch.cuda.is_available() else \"cpu\")\n",
    "print(\"Device:\", device)\n",
    "\n",
    "%load_ext autoreload\n",
    "%autoreload 2"
   ]
  },
  {
   "cell_type": "markdown",
   "metadata": {},
   "source": [
    "## Parameters\n",
    "Hyperparameters, folder names, etc."
   ]
  },
  {
   "cell_type": "code",
   "execution_count": 2,
   "metadata": {},
   "outputs": [],
   "source": [
    "n_epochs = 5\n",
    "batch_size = 32\n",
    "learning_rate = 0.001\n",
    "diceC_scale = 4.0 # scale of the cropping (w.r.t. ROI's bounding box) for the dice coef.\n",
    "\n",
    "input_channels = \"RG\" # Channel to use as input\n",
    "u_depth = 1\n",
    "out1_channels = 8\n",
    "\n",
    "model_name = \"test\"\n",
    "model_dir = \"models/\"\n",
    "data_dir = \"../dataset/\""
   ]
  },
  {
   "cell_type": "markdown",
   "metadata": {},
   "source": [
    "## Data loading\n",
    "Create dataloaders, and build data-related constants."
   ]
  },
  {
   "cell_type": "code",
   "execution_count": 3,
   "metadata": {
    "scrolled": false
   },
   "outputs": [
    {
     "name": "stdout",
     "output_type": "stream",
     "text": [
      "79150 images of size 192x256.\n",
      "42800 to train\n",
      "11650 to validation\n",
      "24700 to test\n",
      "120.947 positive weighting.\n"
     ]
    }
   ],
   "source": [
    "# Create dataloaders\n",
    "dataloaders = get_all_dataloaders(\n",
    "    data_dir,\n",
    "    batch_size, \n",
    "    input_channels = input_channels,\n",
    "    test_dataloader = True,\n",
    "    train_transform = normalize_range, train_target_transform = None,\n",
    "    eval_transform = normalize_range, eval_target_transform = None\n",
    ")\n",
    "\n",
    "N_TRAIN = len(dataloaders[\"train\"].dataset)\n",
    "N_VALID = len(dataloaders[\"valid\"].dataset)\n",
    "N_TEST = len(dataloaders[\"test\"].dataset)\n",
    "HEIGHT, WIDTH = io.imread(get_filenames(os.path.join(data_dir, \"train/\"))[0][0]).shape[:2]\n",
    "print(\"%d images of size %dx%d.\" % (N_TRAIN + N_VALID + N_TEST, HEIGHT, WIDTH))\n",
    "print(\"%d to train\" % N_TRAIN)\n",
    "print(\"%d to validation\" % N_VALID)\n",
    "print(\"%d to test\" % N_TEST)\n",
    "\n",
    "# Compute class weights (as pixel imbalance)\n",
    "pos_count = 0\n",
    "neg_count = 0\n",
    "# for y_name in y_filenames:\n",
    "#     y = io.imread(y_name)\n",
    "#     pos_count += (y == 255).sum()\n",
    "#     neg_count += (y == 0).sum()\n",
    "# for _, batch_y in dataloaders[\"train\"]:\n",
    "#     pos_count += (y == 1).sum().item()\n",
    "#     neg_count += (y == 0).sum().item()\n",
    "# pos_weight = torch.tensor(neg_count / pos_count).to(device)\n",
    "# Following has been pre-computed\n",
    "pos_weight = torch.tensor(120.946829).to(device)\n",
    "if pos_count != 0 and neg_count != 0:\n",
    "    print(\"{} ROI pixels, and {} background --> {:f} positive weighting.\".format(\n",
    "        pos_count, neg_count, pos_weight.item()))\n",
    "else:\n",
    "    print(\"{:.3f} positive weighting.\".format(pos_weight.item()))"
   ]
  },
  {
   "cell_type": "markdown",
   "metadata": {},
   "source": [
    "## Model definition\n",
    "Define model, loss, and optimizer."
   ]
  },
  {
   "cell_type": "code",
   "execution_count": 4,
   "metadata": {
    "scrolled": true
   },
   "outputs": [
    {
     "name": "stdout",
     "output_type": "stream",
     "text": [
      "CustomUNet(\n",
      "  (activation): ReLU()\n",
      "  (maxpool): MaxPool2d(kernel_size=2, stride=2, padding=0, dilation=1, ceil_mode=False)\n",
      "  (convs): ModuleList(\n",
      "    (0): UNetConv(\n",
      "      (activation): ReLU()\n",
      "      (conv1): Conv2d(2, 8, kernel_size=(3, 3), stride=(1, 1), padding=(1, 1))\n",
      "      (conv2): Conv2d(8, 8, kernel_size=(3, 3), stride=(1, 1), padding=(1, 1))\n",
      "    )\n",
      "  )\n",
      "  (midconv): UNetConv(\n",
      "    (activation): ReLU()\n",
      "    (conv1): Conv2d(8, 16, kernel_size=(3, 3), stride=(1, 1), padding=(1, 1))\n",
      "    (conv2): Conv2d(16, 16, kernel_size=(3, 3), stride=(1, 1), padding=(1, 1))\n",
      "  )\n",
      "  (upconvs): ModuleList(\n",
      "    (0): UNetUpConv(\n",
      "      (activation): ReLU()\n",
      "      (upconv): ConvTranspose2d(16, 8, kernel_size=(2, 2), stride=(2, 2))\n",
      "      (conv1): Conv2d(16, 8, kernel_size=(3, 3), stride=(1, 1), padding=(1, 1))\n",
      "      (conv2): Conv2d(8, 8, kernel_size=(3, 3), stride=(1, 1), padding=(1, 1))\n",
      "    )\n",
      "  )\n",
      "  (outconv): Conv2d(8, 1, kernel_size=(1, 1), stride=(1, 1))\n",
      ")\n"
     ]
    }
   ],
   "source": [
    "model = CustomUNet(len(input_channels), u_depth=u_depth, \n",
    "                   out1_channels=out1_channels, batchnorm=False, device=device)\n",
    "print(model)\n",
    "\n",
    "# Save the \"architecture\" of the model by copy/pasting the class definition file\n",
    "os.makedirs(os.path.join(model_dir, model_name), exist_ok=True)\n",
    "shutil.copy(\"utils_model.py\", os.path.join(model_dir, model_name, \"utils_model_save.py\"))\n",
    "\n",
    "loss_fn = torch.nn.BCEWithLogitsLoss(reduction='elementwise_mean', pos_weight=pos_weight)\n",
    "\n",
    "dice_metric = lambda preds, targets: torch.tensor(\n",
    "    dice_coef((torch.sigmoid(preds.cpu()) > 0.5).detach().numpy(),\n",
    "              targets.cpu().detach().numpy()))\n",
    "\n",
    "diceC_metric = lambda preds, targets: torch.tensor(\n",
    "    crop_dice_coef((torch.sigmoid(preds.cpu()) > 0.5).detach().numpy(),\n",
    "                   targets.cpu().detach().numpy(),\n",
    "                   scale = diceC_scale))\n",
    "\n",
    "optimizer = torch.optim.Adam(model.parameters(), lr=learning_rate)"
   ]
  },
  {
   "cell_type": "markdown",
   "metadata": {},
   "source": [
    "## Training"
   ]
  },
  {
   "cell_type": "code",
   "execution_count": null,
   "metadata": {
    "scrolled": true
   },
   "outputs": [
    {
     "name": "stdout",
     "output_type": "stream",
     "text": [
      "Epoch 1/5  (Elapsed time: 0h 00min 00s)\n",
      "---------------------------------------\n",
      "Batch (over 1338): 1...133...266...399...532...665...798...931...1064...1197...1330...\n",
      "Train loss: 0.180570 - dice: 0.396289 - diC4.0: 0.541852\n",
      "Valid loss: 0.205192 - dice: 0.255814 - diC4.0: 0.413062\n",
      "\n",
      "Epoch 2/5  (Elapsed time: 0h 02min 23s)\n",
      "---------------------------------------\n",
      "Batch (over 1338): 1...133...266...399...532...665...798...931...1064...1197...1330...\n",
      "Train loss: 0.124372 - dice: 0.395454 - diC4.0: 0.531111\n",
      "Valid loss: 0.136882 - dice: 0.369168 - diC4.0: 0.532714\n",
      "\n",
      "Epoch 3/5  (Elapsed time: 0h 04min 45s)\n",
      "---------------------------------------\n",
      "Batch (over 1338): 1...133...266...399...532...665...798...931...1064...1197...1330...\n",
      "Train loss: 0.113676 - dice: 0.403789 - diC4.0: 0.536911\n",
      "Valid loss: 0.133560 - dice: 0.350028 - diC4.0: 0.512080\n",
      "\n",
      "Epoch 4/5  (Elapsed time: 0h 07min 05s)\n",
      "---------------------------------------\n",
      "Batch (over 1338): 1...133...266...399...532...665...798...931...1064...1197..."
     ]
    }
   ],
   "source": [
    "best_model, history = train(model,\n",
    "                            dataloaders,\n",
    "                            loss_fn,\n",
    "                            optimizer,\n",
    "                            n_epochs,\n",
    "                            metrics = {\"dice\": dice_metric, \"diC%.1f\"%diceC_scale: diceC_metric},\n",
    "                            criterion_metric = \"dice\",\n",
    "                            model_dir = os.path.join(model_dir, model_name),\n",
    "                            replace_dir = True,\n",
    "                            verbose = 1)"
   ]
  },
  {
   "cell_type": "code",
   "execution_count": null,
   "metadata": {
    "scrolled": false
   },
   "outputs": [],
   "source": [
    "fig = plt.figure(figsize=(12,6))\n",
    "plt.subplot(131)\n",
    "plt.title(\"Loss\")\n",
    "plt.plot(history[\"epoch\"], history[\"loss\"])\n",
    "plt.plot(history[\"epoch\"], history[\"val_loss\"])\n",
    "plt.xlabel(\"Epoch\")\n",
    "plt.ylabel(\"Loss\")\n",
    "plt.legend([\"train loss\", \"valid loss\"])\n",
    "plt.subplot(132)\n",
    "plt.title(\"Dice coefficient\")\n",
    "plt.plot(history[\"epoch\"], history[\"dice\"])\n",
    "plt.plot(history[\"epoch\"], history[\"val_dice\"])\n",
    "plt.xlabel(\"Epoch\")\n",
    "plt.ylabel(\"Dice coef.\")\n",
    "plt.legend([\"train dice\", \"valid dice\"])\n",
    "plt.subplot(133)\n",
    "plt.title(\"Cropped Dice coefficient (scale = %.1f)\" % diceC_scale)\n",
    "plt.plot(history[\"epoch\"], history[\"diC%.1f\"%diceC_scale])\n",
    "plt.plot(history[\"epoch\"], history[\"val_diC%.1f\"%diceC_scale])\n",
    "plt.xlabel(\"Epoch\")\n",
    "plt.ylabel(\"Cropped Dice coef.\")\n",
    "plt.legend([\"train diC%.1f\"%diceC_scale, \"valid diC%.1f\"%diceC_scale])\n",
    "plt.tight_layout(rect=[0, 0.03, 1, 0.95])\n",
    "plt.show()"
   ]
  },
  {
   "cell_type": "markdown",
   "metadata": {},
   "source": [
    "## Testing\n",
    "Test and visualize best model on test data. Note that this is for debugging purposes: you should use the test data only at the very end!"
   ]
  },
  {
   "cell_type": "raw",
   "metadata": {},
   "source": [
    "# Load best model /!\\ Always check which class to import !\n",
    "sys.path.append(os.path.join(model_dir, model_name))\n",
    "\n",
    "from utils_model_save import CustomUNet as ModelNet\n",
    "\n",
    "best_model = ModelNet(len(input_channels), batchnorm=False, device=device)\n",
    "best_model.load_state_dict(torch.load(os.path.join(model_dir, model_name, \"model_best.pt\")))\n",
    "best_model.eval()"
   ]
  },
  {
   "cell_type": "raw",
   "metadata": {},
   "source": [
    "# Test over test data\n",
    "test_metrics = evaluate(best_model, dataloaders[\"test\"], \n",
    "                        {\"loss\": loss_fn, \"dice\": dice_metric, \"diC%.1f\"%diceC_scale: diceC_metric})\n",
    "print(\"Test loss = {}\\nDice coef = {}\\nDice C{:.1f} = {}\".format(\n",
    "    test_metrics[\"loss\"], test_metrics[\"dice\"], diceC_scale, test_metrics[\"diC%.1f\"%diceC_scale]))"
   ]
  },
  {
   "cell_type": "code",
   "execution_count": null,
   "metadata": {},
   "outputs": [],
   "source": [
    "show_sample(best_model, dataloaders[\"valid\"], n_samples=4, \n",
    "            post_processing = lambda preds: torch.tensor(torch.sigmoid(preds) > 0.5, dtype=torch.float32), \n",
    "            metrics = ({\"dice\": dice_metric, \"diC%.1f\"%diceC_scale: diceC_metric}))"
   ]
  },
  {
   "cell_type": "code",
   "execution_count": null,
   "metadata": {},
   "outputs": [],
   "source": [
    "show_sample(best_model, dataloaders[\"valid\"], n_samples=4, \n",
    "            post_processing = None, \n",
    "            metrics = ({\"dice\": dice_metric, \"diC%.1f\"%diceC_scale: diceC_metric}))"
   ]
  }
 ],
 "metadata": {
  "kernelspec": {
   "display_name": "Python 3",
   "language": "python",
   "name": "python3"
  },
  "language_info": {
   "codemirror_mode": {
    "name": "ipython",
    "version": 3
   },
   "file_extension": ".py",
   "mimetype": "text/x-python",
   "name": "python",
   "nbconvert_exporter": "python",
   "pygments_lexer": "ipython3",
   "version": "3.6.5"
  }
 },
 "nbformat": 4,
 "nbformat_minor": 2
}
